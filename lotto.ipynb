{
 "cells": [
  {
   "cell_type": "markdown",
   "metadata": {},
   "source": [
    "# 1931 최강지도자 내정 LOTTO 프로그램"
   ]
  },
  {
   "cell_type": "code",
   "execution_count": 3,
   "metadata": {},
   "outputs": [
    {
     "name": "stdout",
     "output_type": "stream",
     "text": [
      "로또 추첨을 시작합니다.\n",
      "\n",
      "추첨된 로또 번호 : 6 7 9 12 8 4 "
     ]
    }
   ],
   "source": [
    "import random\n",
    "\n",
    "\n",
    "def get_number():\n",
    "    return random.randrange(1, 20)  # 1 ~ 20\n",
    "\n",
    "\n",
    "lotto = []\n",
    "num = 0\n",
    "\n",
    "print(\"로또 추첨을 시작합니다.\\n\")\n",
    "\n",
    "while True:\n",
    "    num = get_number()\n",
    "\n",
    "    if lotto.count(num) == 0:\n",
    "        lotto.append(num)\n",
    "\n",
    "    if len(lotto) >= 6:\n",
    "        break\n",
    "\n",
    "print(\"추첨된 로또 번호 : \", end=\"\")\n",
    "\n",
    "for i in range(0, 6):\n",
    "    print(\"%d \" % lotto[i], end=\"\")"
   ]
  }
 ],
 "metadata": {
  "interpreter": {
   "hash": "f4b2112c9fe7c9fd6e25555b625baab863909110198dcf9adbcc50b4ddd3cdc8"
  },
  "kernelspec": {
   "display_name": "Python 3.7.9 64-bit ('.venv': venv)",
   "language": "python",
   "name": "python3"
  },
  "language_info": {
   "codemirror_mode": {
    "name": "ipython",
    "version": 3
   },
   "file_extension": ".py",
   "mimetype": "text/x-python",
   "name": "python",
   "nbconvert_exporter": "python",
   "pygments_lexer": "ipython3",
   "version": "3.7.9"
  },
  "orig_nbformat": 4
 },
 "nbformat": 4,
 "nbformat_minor": 2
}
